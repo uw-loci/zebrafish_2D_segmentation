{
 "cells": [
  {
   "cell_type": "code",
   "execution_count": 10,
   "id": "0d4f6677",
   "metadata": {},
   "outputs": [],
   "source": [
    "import matplotlib.pyplot as plt\n",
    "import numpy as np\n",
    "from copy import copy\n",
    "import glob\n",
    "import os\n",
    "import tifftools\n",
    "import time\n",
    "from pathlib import Path"
   ]
  },
  {
   "cell_type": "code",
   "execution_count": 24,
   "id": "e8df02b1",
   "metadata": {},
   "outputs": [],
   "source": [
    "targetFolder = \"G:/20220520_172329_hb2gfpgoodfluor/\"\n",
    "fileList = glob.glob(targetFolder+'S000_t000000_V000_R*.tif')\n",
    "\n",
    "    "
   ]
  },
  {
   "cell_type": "code",
   "execution_count": 25,
   "id": "1f8ea690",
   "metadata": {},
   "outputs": [
    {
     "data": {
      "text/plain": [
       "['G:/20220520_172329_hb2gfpgoodfluor\\\\S000_t000000_V000_R0000_X000_Y000_C02_I0_D0_P00325.tif',\n",
       " 'G:/20220520_172329_hb2gfpgoodfluor\\\\S000_t000000_V000_R0002_X000_Y000_C02_I0_D0_P00346.tif',\n",
       " 'G:/20220520_172329_hb2gfpgoodfluor\\\\S000_t000000_V000_R0003_X000_Y000_C02_I0_D0_P00356.tif',\n",
       " 'G:/20220520_172329_hb2gfpgoodfluor\\\\S000_t000000_V000_R0004_X000_Y000_C02_I0_D0_P00339.tif',\n",
       " 'G:/20220520_172329_hb2gfpgoodfluor\\\\S000_t000000_V000_R0005_X000_Y000_C02_I0_D0_P00408.tif',\n",
       " 'G:/20220520_172329_hb2gfpgoodfluor\\\\S000_t000000_V000_R0006_X000_Y000_C02_I0_D0_P00368.tif',\n",
       " 'G:/20220520_172329_hb2gfpgoodfluor\\\\S000_t000000_V000_R0007_X000_Y000_C02_I0_D0_P00351.tif',\n",
       " 'G:/20220520_172329_hb2gfpgoodfluor\\\\S000_t000000_V000_R0008_X000_Y000_C02_I0_D0_P00342.tif',\n",
       " 'G:/20220520_172329_hb2gfpgoodfluor\\\\S000_t000000_V000_R0009_X000_Y000_C02_I0_D0_P00305.tif',\n",
       " 'G:/20220520_172329_hb2gfpgoodfluor\\\\S000_t000000_V000_R0010_X000_Y000_C02_I0_D0_P00273.tif',\n",
       " 'G:/20220520_172329_hb2gfpgoodfluor\\\\S000_t000000_V000_R0011_X000_Y000_C02_I0_D0_P00341.tif',\n",
       " 'G:/20220520_172329_hb2gfpgoodfluor\\\\S000_t000000_V000_R0012_X000_Y000_C02_I0_D0_P00309.tif',\n",
       " 'G:/20220520_172329_hb2gfpgoodfluor\\\\S000_t000000_V000_R0013_X000_Y000_C02_I0_D0_P00372.tif',\n",
       " 'G:/20220520_172329_hb2gfpgoodfluor\\\\S000_t000000_V000_R0014_X000_Y000_C02_I0_D0_P00339.tif',\n",
       " 'G:/20220520_172329_hb2gfpgoodfluor\\\\S000_t000000_V000_R0015_X000_Y000_C02_I0_D0_P00363.tif',\n",
       " 'G:/20220520_172329_hb2gfpgoodfluor\\\\S000_t000000_V000_R0016_X000_Y000_C02_I0_D0_P00325.tif',\n",
       " 'G:/20220520_172329_hb2gfpgoodfluor\\\\S000_t000000_V000_R0017_X000_Y000_C02_I0_D0_P00322.tif',\n",
       " 'G:/20220520_172329_hb2gfpgoodfluor\\\\S000_t000000_V000_R0018_X000_Y000_C02_I0_D0_P00290.tif',\n",
       " 'G:/20220520_172329_hb2gfpgoodfluor\\\\S000_t000000_V000_R0019_X000_Y000_C02_I0_D0_P00343.tif']"
      ]
     },
     "execution_count": 25,
     "metadata": {},
     "output_type": "execute_result"
    }
   ],
   "source": [
    "fileList"
   ]
  },
  {
   "cell_type": "code",
   "execution_count": 35,
   "id": "20de35ff",
   "metadata": {},
   "outputs": [],
   "source": [
    "for file in fileList:\n",
    "    file = Path(file)\n",
    "    name = file.stem\n",
    "    current_position = name.split('_')[3]\n",
    "    outputDirectory = targetFolder+\"/\"+current_position\n",
    "    outputDirectoryExistsCheck = os.path.exists(outputDirectory)\n",
    "    if not outputDirectoryExistsCheck:\n",
    "        os.mkdir(outputDirectory)\n",
    "    files_to_move = glob.glob(targetFolder+'*'+current_position+'*.*')\n",
    "    #print(files_to_move)\n",
    "    for temp in files_to_move:\n",
    "        Path(temp).rename(outputDirectory+\"/\"+Path(temp).stem+Path(temp).suffix)\n",
    "        #print(Path(temp).stem+Path(temp).suffix)\n"
   ]
  },
  {
   "cell_type": "code",
   "execution_count": null,
   "id": "cadfed2c",
   "metadata": {},
   "outputs": [],
   "source": []
  }
 ],
 "metadata": {
  "kernelspec": {
   "display_name": "Python 3",
   "language": "python",
   "name": "python3"
  },
  "language_info": {
   "codemirror_mode": {
    "name": "ipython",
    "version": 3
   },
   "file_extension": ".py",
   "mimetype": "text/x-python",
   "name": "python",
   "nbconvert_exporter": "python",
   "pygments_lexer": "ipython3",
   "version": "3.8.8"
  }
 },
 "nbformat": 4,
 "nbformat_minor": 5
}
